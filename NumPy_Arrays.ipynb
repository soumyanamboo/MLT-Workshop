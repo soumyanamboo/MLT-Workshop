{
  "nbformat": 4,
  "nbformat_minor": 0,
  "metadata": {
    "colab": {
      "provenance": []
    },
    "kernelspec": {
      "name": "python3",
      "display_name": "Python 3"
    },
    "language_info": {
      "name": "python"
    }
  },
  "cells": [
    {
      "cell_type": "markdown",
      "source": [
        "# NumPy Arrays\n",
        "\n",
        "We will study `NumPy` arrays in more detail. "
      ],
      "metadata": {
        "id": "H729Vxqsdh5_"
      }
    },
    {
      "cell_type": "code",
      "source": [
        "import numpy as np"
      ],
      "metadata": {
        "id": "f9pXUWReT4zX"
      },
      "execution_count": null,
      "outputs": []
    },
    {
      "cell_type": "markdown",
      "source": [
        "## Arrays\n",
        "\n",
        "It should have become amply clear by now that both vectors and matrices are `NumPy` arrays. Each array in `NumPy` has a dimension. Vectors are one-dimensional arrays while matrices are two-dimensional arrays. For example:\n",
        "\n",
        "$$\n",
        "\\mathbf{x} = \\begin{bmatrix}\n",
        "1\\\\\n",
        "2\\\\\n",
        "3\n",
        "\\end{bmatrix}, \n",
        "\\mathbf{M} = \\begin{bmatrix}\n",
        "1 & 2\\\\\n",
        "3 & 4\\\\\n",
        "5 & 6\n",
        "\\end{bmatrix}\n",
        "$$\n",
        "\n",
        "In `NumPy`:"
      ],
      "metadata": {
        "id": "DOunwTfMTPOw"
      }
    },
    {
      "cell_type": "code",
      "source": [
        "x = np.array([1, 2, 3])\n",
        "M = np.array([[1, 2],\n",
        "              [3, 4],\n",
        "              [5, 6]])\n",
        "x.shape\n",
        "M.shape"
      ],
      "metadata": {
        "id": "tvI35k_XTxam",
        "colab": {
          "base_uri": "https://localhost:8080/"
        },
        "outputId": "8ced0fa5-a0a4-42d1-9509-0471ac72f6d0"
      },
      "execution_count": null,
      "outputs": [
        {
          "output_type": "execute_result",
          "data": {
            "text/plain": [
              "(3, 2)"
            ]
          },
          "metadata": {},
          "execution_count": 3
        }
      ]
    },
    {
      "cell_type": "markdown",
      "source": [
        "## Three dimensional array\n",
        "\n",
        "Though we will mostly restrict ourselves to arrays of dimension one and two, nothing stops us from working with higher dimensional arrays. For example, consider a 3-dimensional array. This could be visualized as a list of matrices:\n",
        "\n",
        "$$\n",
        "\\begin{bmatrix}\n",
        "\\begin{bmatrix}\n",
        "1 & 2 & 3\\\\\n",
        "4 & 5 & 6\n",
        "\\end{bmatrix}\\\\ \n",
        "\\begin{bmatrix}\n",
        "7 & 8 & 9\\\\\n",
        "10 & 11 & 12\n",
        "\\end{bmatrix}\\\\\n",
        "\\end{bmatrix}\n",
        "$$\n",
        "\n",
        "This would be a $2 \\times 2 \\times 3$ array. In `NumPy`:"
      ],
      "metadata": {
        "id": "QBdh4YAsZcZf"
      }
    },
    {
      "cell_type": "code",
      "source": [],
      "metadata": {
        "id": "2XZQbE0qaXc-"
      },
      "execution_count": null,
      "outputs": []
    },
    {
      "cell_type": "markdown",
      "source": [
        "## Reshaping\n",
        "\n",
        "Arrays can be reshaped. We will do a number of examples here."
      ],
      "metadata": {
        "id": "na6x_cSPUPXb"
      }
    },
    {
      "cell_type": "markdown",
      "source": [
        "### Example-1: Vector to matrix\n",
        "\n",
        "We start with a vector:\n",
        "\n",
        "$$\n",
        "\\mathbf{x} = \\begin{bmatrix}\n",
        "1 & 2 & 3 & 4 & 5 & 6\n",
        "\\end{bmatrix}\n",
        "$$\n",
        "\n",
        "We can reshape it into the following matrix:\n",
        "\n",
        "$$\n",
        "\\mathbf{M} = \\begin{bmatrix}\n",
        "1 & 2\\\\\n",
        "3 & 4\\\\\n",
        "5 & 6\n",
        "\\end{bmatrix}\n",
        "$$\n",
        "\n",
        "In `NumPy`:"
      ],
      "metadata": {
        "id": "ziQMNQlZU-MY"
      }
    },
    {
      "cell_type": "code",
      "source": [
        "x = np.array([1, 2, 3, 4, 5, 6])\n",
        "x.reshape(3, 2, order = 'F') # F stands for Fortran\n",
        "x.reshape(3, 2, order = 'C') # C stands for C\n",
        "x.reshape(2, 3)"
      ],
      "metadata": {
        "id": "ydvP-pziXVVL",
        "colab": {
          "base_uri": "https://localhost:8080/"
        },
        "outputId": "35d24795-b7bf-4492-8fe0-3a44ba7ea084"
      },
      "execution_count": null,
      "outputs": [
        {
          "output_type": "execute_result",
          "data": {
            "text/plain": [
              "array([[1, 2, 3],\n",
              "       [4, 5, 6]])"
            ]
          },
          "metadata": {},
          "execution_count": 15
        }
      ]
    },
    {
      "cell_type": "markdown",
      "source": [
        "### Example-2: Matrix to vector\n",
        "\n",
        "We now start with a matrix:\n",
        "\n",
        "$$\n",
        "\\mathbf{M} = \\begin{bmatrix}\n",
        "1 & 2 & 3\\\\\n",
        "4 & 5 & 6\n",
        "\\end{bmatrix}\n",
        "$$\n",
        "\n",
        "We can now reshape it into a vector:\n",
        "\n",
        "$$\n",
        "\\mathbf{x} = \\begin{bmatrix}\n",
        "1 & 2 & 3 & 4 & 5 & 6\n",
        "\\end{bmatrix}\n",
        "$$\n",
        "\n",
        "In `NumPy`:"
      ],
      "metadata": {
        "id": "WFAV9GNmYlRw"
      }
    },
    {
      "cell_type": "code",
      "source": [
        "M = np.array([[1, 2, 3], [4, 5, 6]])\n",
        "M.reshape(6)"
      ],
      "metadata": {
        "id": "JbM7OAgfUtSw",
        "colab": {
          "base_uri": "https://localhost:8080/"
        },
        "outputId": "53b6b18b-af01-44a3-a7fa-b07036abc1c8"
      },
      "execution_count": null,
      "outputs": [
        {
          "output_type": "execute_result",
          "data": {
            "text/plain": [
              "array([1, 2, 3, 4, 5, 6])"
            ]
          },
          "metadata": {},
          "execution_count": 19
        }
      ]
    },
    {
      "cell_type": "markdown",
      "source": [
        "### Example-3: Matrix to matrix\n",
        "\n",
        "We can reshape a matrix into another matrix as well. Sometimes, we may not want to specify the dimensions completely. In such cases, we can let `NumPy` figure them out by letting one of the dimensions to be $-1$. For example:\n",
        "\n",
        "$$\n",
        "\\mathbf{M} = \\begin{bmatrix}\n",
        "1 & 2 & 3\\\\\n",
        "4 & 5 & 6\n",
        "\\end{bmatrix}\n",
        "$$\n",
        "\n",
        "Let us say we want to reshape it in such a way that there are three rows:\n",
        "\n",
        "$$\n",
        "\\mathbf{P} = \\begin{bmatrix}\n",
        "1 & 2\\\\\n",
        "3 & 4\\\\\n",
        "5 & 6\n",
        "\\end{bmatrix}\n",
        "$$\n",
        "\n",
        "In `NumPy`:"
      ],
      "metadata": {
        "id": "FHk15C4cXz9u"
      }
    },
    {
      "cell_type": "code",
      "source": [
        "M = np.array([[1, 2, 3], [4, 5, 6]])\n",
        "M.reshape(3, -1)"
      ],
      "metadata": {
        "id": "ax2gS0huYfKH",
        "colab": {
          "base_uri": "https://localhost:8080/"
        },
        "outputId": "34312fe0-fa46-4426-b436-f2e8a795b8cc"
      },
      "execution_count": null,
      "outputs": [
        {
          "output_type": "execute_result",
          "data": {
            "text/plain": [
              "array([[1, 2],\n",
              "       [3, 4],\n",
              "       [5, 6]])"
            ]
          },
          "metadata": {},
          "execution_count": 27
        }
      ]
    },
    {
      "cell_type": "markdown",
      "source": [
        "## Matrix-vector addition\n",
        "\n",
        "Sometimes we would have to add a vector to each row or column of a matrix. There are two cases to consider. If the vector to be added is a:\n",
        "\n",
        "- row vector\n",
        "- column vector\n"
      ],
      "metadata": {
        "id": "zy6NYtY8mPDn"
      }
    },
    {
      "cell_type": "markdown",
      "source": [
        "### Row-vector\n",
        "\n",
        "Consider the following matrix $\\mathbf{M}$ and vector $\\mathbf{b}$:\n",
        "\n",
        "$$\n",
        "\\mathbf{M} = \\begin{bmatrix}\n",
        "1 & 2 & 3\\\\\n",
        "4 & 5 & 6\n",
        "\\end{bmatrix}, \\mathbf{b} = \\begin{bmatrix}\n",
        "1 & 2 & 3\n",
        "\\end{bmatrix}\n",
        "$$\n",
        "\n",
        "There is a slight abuse of notation as we can't add a matrix and a vector together. However, the context often makes this clear:\n",
        "\n",
        "$$\n",
        "\\mathbf{M} + \\mathbf{b} = \\begin{bmatrix}\n",
        "2 & 4 & 6\\\\\n",
        "5 & 7 & 9\n",
        "\\end{bmatrix}\n",
        "$$\n",
        "\n",
        "In `NumPy`:"
      ],
      "metadata": {
        "id": "QmlMcTXXqGDy"
      }
    },
    {
      "cell_type": "code",
      "source": [
        "M = np.array([[1, 2, 3],\n",
        "              [4, 5, 6]])\n",
        "b = np.array([1, 2, 3])\n",
        "M + b"
      ],
      "metadata": {
        "id": "60bRMgs0na0o",
        "colab": {
          "base_uri": "https://localhost:8080/"
        },
        "outputId": "edc5541a-ad58-4e06-ae21-afdaf90e2cfa"
      },
      "execution_count": null,
      "outputs": [
        {
          "output_type": "execute_result",
          "data": {
            "text/plain": [
              "array([[2, 4, 6],\n",
              "       [5, 7, 9]])"
            ]
          },
          "metadata": {},
          "execution_count": 28
        }
      ]
    },
    {
      "cell_type": "markdown",
      "source": [
        "### Column-vector\n",
        "\n",
        "Now, consider another pair:\n",
        "\n",
        "$$\n",
        "\\mathbf{M} = \\begin{bmatrix}\n",
        "1 & 2 & 3\\\\\n",
        "4 & 5 & 6\n",
        "\\end{bmatrix}, \\mathbf{b} = \\begin{bmatrix}\n",
        "1\\\\\n",
        "2\n",
        "\\end{bmatrix}\n",
        "$$\n",
        "\n",
        "In this case, we have:\n",
        "\n",
        "$$\n",
        "\\mathbf{M} + \\mathbf{b} = \\begin{bmatrix}\n",
        "2 & 3 & 4\\\\\n",
        "6 & 7 & 8\n",
        "\\end{bmatrix}\n",
        "$$\n",
        "\n",
        "In `NumPy`:"
      ],
      "metadata": {
        "id": "eqhrvxBnnqq4"
      }
    },
    {
      "cell_type": "code",
      "source": [
        "b = np.array([1, 2])\n",
        "b = b.reshape(2, 1)\n",
        "print(b.shape)\n",
        "M + b"
      ],
      "metadata": {
        "id": "5Nz887yvoUyr",
        "colab": {
          "base_uri": "https://localhost:8080/"
        },
        "outputId": "5e24d20d-057e-4e31-8077-3038dfc5f3a4"
      },
      "execution_count": null,
      "outputs": [
        {
          "output_type": "stream",
          "name": "stdout",
          "text": [
            "(2, 1)\n"
          ]
        },
        {
          "output_type": "execute_result",
          "data": {
            "text/plain": [
              "array([[2, 3, 4],\n",
              "       [6, 7, 8]])"
            ]
          },
          "metadata": {},
          "execution_count": 37
        }
      ]
    },
    {
      "cell_type": "markdown",
      "source": [
        "## Indexing and Slicing an array\n",
        "\n",
        "Just like lists in Python, `NumPy` arrays can be indexed and sliced. Slicing is useful if we want to work with a portion of an array. We will look at some examples."
      ],
      "metadata": {
        "id": "z_Gbs92eyXzM"
      }
    },
    {
      "cell_type": "markdown",
      "source": [
        "### Example-1: Row-slice\n",
        "\n",
        "We will extract the third row of the matrix $\\mathbf{M}$:\n",
        "\n",
        "$$\n",
        "\\mathbf{M} = \\begin{bmatrix}\n",
        "1 & 2\\\\\n",
        "3 & 4\\\\\n",
        "5 & 6\\\\\n",
        "7 & 8\\\\\n",
        "9 & 10\n",
        "\\end{bmatrix}\n",
        "$$\n",
        "\n",
        "\n",
        "\n",
        "In `NumPy`:"
      ],
      "metadata": {
        "id": "d2oQKpMtx0ma"
      }
    },
    {
      "cell_type": "code",
      "source": [
        "M = np.array(list(range(1, 11)))\n",
        "M = M.reshape(5, 2)\n",
        "M[2]"
      ],
      "metadata": {
        "id": "6JNjoHuAyvyH",
        "colab": {
          "base_uri": "https://localhost:8080/"
        },
        "outputId": "b8efb025-a6e5-49e4-a869-3c4b5a9968a0"
      },
      "execution_count": null,
      "outputs": [
        {
          "output_type": "execute_result",
          "data": {
            "text/plain": [
              "array([5, 6])"
            ]
          },
          "metadata": {},
          "execution_count": 42
        }
      ]
    },
    {
      "cell_type": "markdown",
      "source": [
        "### Example-2: Column slice\n",
        "\n",
        "Let us now extract the second column of the following matrix:\n",
        "\n",
        "$$\n",
        "\\mathbf{M} = \\begin{bmatrix}\n",
        "1 & 2 & 3\\\\\n",
        "4 & 5 & 6\\\\\n",
        "7 & 8 & 9\n",
        "\\end{bmatrix}\n",
        "$$\n",
        "\n",
        "In `NumPy`:"
      ],
      "metadata": {
        "id": "SDZ2YWhKy0sh"
      }
    },
    {
      "cell_type": "code",
      "source": [
        "M = np.array(list(range(1, 10))).reshape(3, 3)\n",
        "M[:, 1]"
      ],
      "metadata": {
        "id": "oPlbEYqwzEWO",
        "colab": {
          "base_uri": "https://localhost:8080/"
        },
        "outputId": "af2062ff-4ed9-46f2-8a12-ec3b274b36f1"
      },
      "execution_count": null,
      "outputs": [
        {
          "output_type": "execute_result",
          "data": {
            "text/plain": [
              "array([2, 5, 8])"
            ]
          },
          "metadata": {},
          "execution_count": 53
        }
      ]
    },
    {
      "cell_type": "markdown",
      "source": [
        "### Example-3: Submatrix slice\n",
        "\n",
        "Now, we want to extract the $2 \\times 2$ submatrix colored in blue from $M$:\n",
        "\n",
        "$$\n",
        "\\mathbf{M} = \\begin{bmatrix}\n",
        "1 & 2 & 3 & 4\\\\\n",
        "5 & 6 & \\color{blue}7 & \\color{blue}8\\\\\n",
        "9 & 10 & \\color{blue}{11} & \\color{blue}{12}\\\\\n",
        "13 & 14 & 15 & 16\n",
        "\\end{bmatrix}\n",
        "$$\n",
        "\n",
        "In `NumPy`:"
      ],
      "metadata": {
        "id": "GLPmdjIazkS9"
      }
    },
    {
      "cell_type": "code",
      "source": [
        "M = np.arange(1, 17).reshape(4, 4)\n",
        "M[1: 3, 2: ]"
      ],
      "metadata": {
        "id": "-_1PqxnR1hSJ",
        "colab": {
          "base_uri": "https://localhost:8080/"
        },
        "outputId": "989c11e5-a441-4f4a-dbe0-15d64724bf8d"
      },
      "execution_count": null,
      "outputs": [
        {
          "output_type": "execute_result",
          "data": {
            "text/plain": [
              "array([[ 7,  8],\n",
              "       [11, 12]])"
            ]
          },
          "metadata": {},
          "execution_count": 65
        }
      ]
    },
    {
      "cell_type": "markdown",
      "source": [
        "### Example-4: Indexing using arrays\n",
        "\n",
        "`NumPy` arrays themselves can be used as indices to retreive different parts of the array. For example:\n",
        "\n",
        "$$\n",
        "\\mathbf{x} = \\begin{bmatrix}\n",
        "0 & 1 & 2 & 3 & 4 & 5 & 6\n",
        "\\end{bmatrix}\n",
        "$$\n",
        "\n",
        "Let us say that we are interested in retreiving indices: `[1, 3, 6]`. \n",
        "\n",
        "In `NumPy`:"
      ],
      "metadata": {
        "id": "kYF_el9_7nhj"
      }
    },
    {
      "cell_type": "code",
      "source": [
        "x = np.arange(7)\n",
        "x[[1, 3, 6]]"
      ],
      "metadata": {
        "id": "ppezuKD98NS3",
        "colab": {
          "base_uri": "https://localhost:8080/"
        },
        "outputId": "0c475416-699b-4654-d47c-4a4278c42a5f"
      },
      "execution_count": null,
      "outputs": [
        {
          "output_type": "execute_result",
          "data": {
            "text/plain": [
              "array([1, 3, 6])"
            ]
          },
          "metadata": {},
          "execution_count": 68
        }
      ]
    },
    {
      "cell_type": "markdown",
      "source": [
        "### Example-5: Filtering particular values\n",
        "\n",
        "Sometimes we are interested in those elements of the array that possess a particular property:\n",
        "\n",
        "$$\n",
        "\\mathbf{x} = \\begin{bmatrix}\n",
        "3 & 1 & 0 & -4 & -2 & 1 & 5\n",
        "\\end{bmatrix}\n",
        "$$\n",
        "\n",
        "Let us try to extract all elements that are positive.\n",
        "\n",
        "In `NumPy`:"
      ],
      "metadata": {
        "id": "i0fW7CFg8d6z"
      }
    },
    {
      "cell_type": "code",
      "source": [
        "x = np.array([3, 1, 0, -4, -2, 1, 5, -5]).reshape(4, -1)\n",
        "x > 0\n",
        "x[x > 0]"
      ],
      "metadata": {
        "id": "isTifYN58vy4",
        "colab": {
          "base_uri": "https://localhost:8080/"
        },
        "outputId": "5c107fcc-cad5-4797-dfaf-f08d65f1ba81"
      },
      "execution_count": null,
      "outputs": [
        {
          "output_type": "execute_result",
          "data": {
            "text/plain": [
              "array([3, 1, 1, 5])"
            ]
          },
          "metadata": {},
          "execution_count": 73
        }
      ]
    },
    {
      "cell_type": "markdown",
      "source": [
        "## Operations along axes\n",
        "\n",
        "Sometimes we may wish to do some operations on all the row-vectors of a matrix or all the column-vectors of the matrix. The idea of `axis` is important to understand how these operations can be done."
      ],
      "metadata": {
        "id": "frvhBhaWN5HQ"
      }
    },
    {
      "cell_type": "markdown",
      "source": [
        "### Top-bottom\n",
        "\n",
        "Top-bottom operations are done on row-vectors. For example, consider the matrix:\n",
        "\n",
        "$$\n",
        "\\mathbf{A} = \\begin{bmatrix}\n",
        "1 & 2 & 3 & 4\\\\\n",
        "5 & 6 & 7 & 8\n",
        "\\end{bmatrix}\n",
        "$$\n",
        "\n",
        "The sum of the row-vectors of the matrix is a vector:\n",
        "\n",
        "$$\n",
        "\\text{rsum}(\\mathbf{A}) = \\begin{bmatrix}\n",
        "6 & 8 & 10 & 12\n",
        "\\end{bmatrix}\n",
        "$$\n",
        "\n",
        "In `NumPy`:"
      ],
      "metadata": {
        "id": "qUsvnCJ4krbZ"
      }
    },
    {
      "cell_type": "code",
      "source": [
        "A = np.arange(1, 9).reshape(2, -1)\n",
        "A.sum(axis = 0)"
      ],
      "metadata": {
        "id": "O1YbVPhWJ0h-",
        "colab": {
          "base_uri": "https://localhost:8080/"
        },
        "outputId": "94ab872d-2d4e-4aa6-ef15-83b09f97f9a0"
      },
      "execution_count": null,
      "outputs": [
        {
          "output_type": "execute_result",
          "data": {
            "text/plain": [
              "array([ 6,  8, 10, 12])"
            ]
          },
          "metadata": {},
          "execution_count": 80
        }
      ]
    },
    {
      "cell_type": "markdown",
      "source": [
        "### Left-right\n",
        "\n",
        "Left-right operations are done on column-vectors.\n",
        "\n",
        "$$\n",
        "\\mathbf{A} = \\begin{bmatrix}\n",
        "1 & 2 & 3 & 4\\\\\n",
        "5 & 6 & 7 & 8\n",
        "\\end{bmatrix}\n",
        "$$\n",
        "\n",
        "The sum of the column-vectors of the matrix is a vector:\n",
        "\n",
        "$$\n",
        "\\text{csum}(\\mathbf{A}) = \\begin{bmatrix}\n",
        "10\\\\\n",
        "26\n",
        "\\end{bmatrix}\n",
        "$$\n",
        "\n",
        "In `NumPy`:"
      ],
      "metadata": {
        "id": "oj5mbwZfLJwL"
      }
    },
    {
      "cell_type": "code",
      "source": [
        "A = np.arange(1, 9).reshape(2, -1)\n",
        "A.sum(axis = 1)"
      ],
      "metadata": {
        "id": "EnRfM2y5LfwQ",
        "colab": {
          "base_uri": "https://localhost:8080/"
        },
        "outputId": "ad01a810-6ddd-48a4-990b-3e2a11ef1cb3"
      },
      "execution_count": null,
      "outputs": [
        {
          "output_type": "execute_result",
          "data": {
            "text/plain": [
              "array([10, 26])"
            ]
          },
          "metadata": {},
          "execution_count": 78
        }
      ]
    },
    {
      "cell_type": "markdown",
      "source": [
        "### Sum, Mean, Variance, Norm\n",
        "\n",
        "Some of the operations that can be done in this manner. Let us use the following matrix to demonstrate this:\n",
        "\n",
        "$$\n",
        "\\mathbf{M} = \\begin{bmatrix}\n",
        "1 & 2 & 3\\\\\n",
        "4 & 5 & 6\\\\\n",
        "7 & 8 & 9\n",
        "\\end{bmatrix}\n",
        "$$\n",
        "\n",
        "Let us find the following quantities:\n",
        "\n",
        "- sum of column-vectors\n",
        "- mean of row-vectors\n",
        "- variance of column-vectors\n",
        "\n",
        "\n",
        "Revisit\n",
        "\n",
        "- $L_1$ norm of row-vectors"
      ],
      "metadata": {
        "id": "04AtzT0ampAi"
      }
    },
    {
      "cell_type": "code",
      "source": [
        "M = np.arange(1, 10).reshape(3, 3)\n",
        "col_sum = M.sum(axis = 1)\n",
        "print(col_sum)\n",
        "row_mean = M.mean(axis = 0)\n",
        "print(row_mean)\n",
        "col_var = M.var(axis = 1)\n",
        "print(col_var)\n",
        "row_norm = np.linalg.norm(M, axis = 1, ord = 1) # left-right -> row vectors\n",
        "print(row_norm)"
      ],
      "metadata": {
        "id": "wC42Iat8m2NK",
        "colab": {
          "base_uri": "https://localhost:8080/"
        },
        "outputId": "def9e1ad-2df9-4c98-884f-1ca3148600d4"
      },
      "execution_count": null,
      "outputs": [
        {
          "output_type": "stream",
          "name": "stdout",
          "text": [
            "[ 6 15 24]\n",
            "[4. 5. 6.]\n",
            "[0.66666667 0.66666667 0.66666667]\n",
            "[ 6. 15. 24.]\n"
          ]
        }
      ]
    },
    {
      "cell_type": "markdown",
      "source": [
        "## Stacking arrays\n",
        "\n",
        "Sometimes, we would want to stack arrays. Consider the two matrices:\n",
        "\n",
        "$$\n",
        "\\mathbf{A} =\n",
        "\\begin{bmatrix}\n",
        "1 & 2\\\\\n",
        "3 & 4\n",
        "\\end{bmatrix},\n",
        "\\mathbf{B} =\n",
        "\\begin{bmatrix}\n",
        "5 & 6\\\\\n",
        "7 & 8\n",
        "\\end{bmatrix}\n",
        "$$\n",
        "\n",
        "There are two ways to stack these two matrices:\n",
        "\n",
        "- top-bottom\n",
        "- left-right"
      ],
      "metadata": {
        "id": "_4V0KLcs31ai"
      }
    },
    {
      "cell_type": "markdown",
      "source": [
        "### Top-bottom\n",
        "\n",
        "We could stack the two matrices along the rows, $\\mathbf{A}$ on top of $\\mathbf{B}$:\n",
        "\n",
        "$$\n",
        "\\mathbf{C} =\n",
        "\\begin{bmatrix}\n",
        "1 & 2\\\\\n",
        "3 & 4\\\\\n",
        "5 & 6\\\\\n",
        "7 & 8\n",
        "\\end{bmatrix}\n",
        "$$\n",
        "\n",
        "In `NumPy`:"
      ],
      "metadata": {
        "id": "5KRHau7b4R_v"
      }
    },
    {
      "cell_type": "code",
      "source": [
        "A = np.array([[1, 2], [3, 4]])\n",
        "B = np.array([[5, 6], [7, 8]])\n",
        "np.concatenate((A, B), axis = 0)"
      ],
      "metadata": {
        "id": "jfHRPcwH5TrC",
        "colab": {
          "base_uri": "https://localhost:8080/"
        },
        "outputId": "7d89a64f-80c7-476f-d962-822085c463c3"
      },
      "execution_count": null,
      "outputs": [
        {
          "output_type": "execute_result",
          "data": {
            "text/plain": [
              "array([[1, 2],\n",
              "       [3, 4],\n",
              "       [5, 6],\n",
              "       [7, 8]])"
            ]
          },
          "metadata": {},
          "execution_count": 92
        }
      ]
    },
    {
      "cell_type": "markdown",
      "source": [
        "### Left-right\n",
        "\n",
        "We could stack the two matrices along the columns, $\\mathbf{A}$ to the left of $\\mathbf{B}$:\n",
        "\n",
        "$$\n",
        "\\mathbf{C} =\n",
        "\\begin{bmatrix}\n",
        "1 & 2 & 5 & 6\\\\\n",
        "3 & 4 & 7 & 8\\\\\n",
        "\\end{bmatrix}\n",
        "$$\n",
        "\n",
        "In `NumPy`:"
      ],
      "metadata": {
        "id": "Y3kW_un8NaQL"
      }
    },
    {
      "cell_type": "code",
      "source": [
        "A = np.array([[1, 2], [3, 4]])\n",
        "B = np.array([[5, 6], [7, 8]])\n",
        "np.concatenate((A, B), axis = 1)"
      ],
      "metadata": {
        "id": "MimZDA5CNk5C",
        "colab": {
          "base_uri": "https://localhost:8080/"
        },
        "outputId": "56108c2b-e319-42fd-9819-c56b90a98272"
      },
      "execution_count": null,
      "outputs": [
        {
          "output_type": "execute_result",
          "data": {
            "text/plain": [
              "array([[1, 2, 5, 6],\n",
              "       [3, 4, 7, 8]])"
            ]
          },
          "metadata": {},
          "execution_count": 93
        }
      ]
    }
  ]
}