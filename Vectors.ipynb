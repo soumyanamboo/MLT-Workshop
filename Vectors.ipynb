{
  "nbformat": 4,
  "nbformat_minor": 0,
  "metadata": {
    "colab": {
      "provenance": [],
      "collapsed_sections": [
        "ap_Zg_CEL9lz",
        "Fp6OJRQZMjoW"
      ]
    },
    "kernelspec": {
      "name": "python3",
      "display_name": "Python 3"
    },
    "language_info": {
      "name": "python"
    }
  },
  "cells": [
    {
      "cell_type": "markdown",
      "source": [
        "# Vectors\n",
        "\n"
      ],
      "metadata": {
        "id": "H729Vxqsdh5_"
      }
    },
    {
      "cell_type": "markdown",
      "source": [
        "## Import\n",
        "\n",
        "First we shall import the `NumPy` package."
      ],
      "metadata": {
        "id": "B1cOisjsIQWW"
      }
    },
    {
      "cell_type": "code",
      "source": [
        "import numpy as np\n",
        "# Ctr + Enter - run one cell\n",
        "# Ctr + F10\n",
        "# Ctr + F9 - run entire colab"
      ],
      "metadata": {
        "id": "9BmIfrx3IXZz"
      },
      "execution_count": null,
      "outputs": []
    },
    {
      "cell_type": "markdown",
      "source": [
        "## Python Lists\n",
        "\n",
        "Consider the following vectors:\n",
        "\n",
        "$$\n",
        "\\mathbf{x} = \\begin{bmatrix}\n",
        "1\\\\\n",
        "2\\\\\n",
        "3\n",
        "\\end{bmatrix}, \\mathbf{y} = \\begin{bmatrix}\n",
        "4\\\\\n",
        "5\\\\\n",
        "6\n",
        "\\end{bmatrix}\n",
        "$$\n",
        "\n",
        "We can add these two vectors:\n",
        "\n",
        "$$\n",
        "\\mathbf{z} = \\mathbf{x} + \\mathbf{y}= \\begin{bmatrix}\n",
        "5\\\\\n",
        "7\\\\\n",
        "9\n",
        "\\end{bmatrix}\n",
        "$$\n",
        "\n",
        "Using Python lists:"
      ],
      "metadata": {
        "id": "q4Bvo6cKbRjQ"
      }
    },
    {
      "cell_type": "code",
      "source": [
        "x = [1, 2, 3]\n",
        "y = [4, 5, 6]\n",
        "\n",
        "z = [ ]\n",
        "# element by element\n",
        "# explicitly loop over the list\n",
        "for i in range(3):\n",
        "    z.append(x[i] + y[i])\n",
        "z"
      ],
      "metadata": {
        "id": "iBA567DMbkvS",
        "colab": {
          "base_uri": "https://localhost:8080/"
        },
        "outputId": "ff38f901-4b9a-44fc-f672-7b5e95d9df91"
      },
      "execution_count": null,
      "outputs": [
        {
          "output_type": "execute_result",
          "data": {
            "text/plain": [
              "[5, 7, 9]"
            ]
          },
          "metadata": {},
          "execution_count": 3
        }
      ]
    },
    {
      "cell_type": "markdown",
      "source": [
        "## Vectors as `NumPy` arrays\n",
        "\n",
        "Consider the following vector:\n",
        "\n",
        "$$\n",
        "\\mathbf{x} = \\begin{bmatrix}\n",
        "1\\\\\n",
        "2\\\\\n",
        "3\n",
        "\\end{bmatrix}\n",
        "$$\n",
        "\n",
        "In `NumPy`:"
      ],
      "metadata": {
        "id": "JvcADsvgIZE3"
      }
    },
    {
      "cell_type": "code",
      "source": [
        "x = np.array([1, 2, 3])\n",
        "x"
      ],
      "metadata": {
        "id": "83iQmusSIstp",
        "colab": {
          "base_uri": "https://localhost:8080/"
        },
        "outputId": "aaae0e2f-7ae1-47fb-d7ff-7368c91a0268"
      },
      "execution_count": null,
      "outputs": [
        {
          "output_type": "execute_result",
          "data": {
            "text/plain": [
              "array([1, 2, 3])"
            ]
          },
          "metadata": {},
          "execution_count": 8
        }
      ]
    },
    {
      "cell_type": "markdown",
      "source": [
        "## Vector addition\n",
        "\n",
        "Addition is one of the elementary operations that can be performed on vectors. Given two vectors\n",
        "\n",
        "$$\n",
        "\\mathbf{x} = \\begin{bmatrix}\n",
        "1\\\\\n",
        "2\\\\\n",
        "3\n",
        "\\end{bmatrix}, \\mathbf{y} = \\begin{bmatrix}\n",
        "4\\\\\n",
        "5\\\\\n",
        "6\n",
        "\\end{bmatrix}\n",
        "$$\n",
        "\n",
        "we have:\n",
        "\n",
        "$$\n",
        "\\mathbf{z} = \\mathbf{x} + \\mathbf{y}= \\begin{bmatrix}\n",
        "5\\\\\n",
        "7\\\\\n",
        "9\n",
        "\\end{bmatrix}\n",
        "$$"
      ],
      "metadata": {
        "id": "j-1J_2tTKeFn"
      }
    },
    {
      "cell_type": "code",
      "source": [
        "x = np.array([1, 2, 3])\n",
        "y = np.array([4, 5, 6])\n",
        "z = x + y\n",
        "z"
      ],
      "metadata": {
        "id": "1Pxa2ZGULiq9",
        "colab": {
          "base_uri": "https://localhost:8080/"
        },
        "outputId": "c496380f-52f2-455b-cdeb-fd04ae04b3d5"
      },
      "execution_count": null,
      "outputs": [
        {
          "output_type": "execute_result",
          "data": {
            "text/plain": [
              "array([5, 7, 9])"
            ]
          },
          "metadata": {},
          "execution_count": 9
        }
      ]
    },
    {
      "cell_type": "markdown",
      "source": [
        "## Element-wise multiplication\n",
        "\n",
        "Element-wise multiplication of two vectors is called the Hadamard product. The operator corresponding to it is $\\odot$. For example, given two vectors:\n",
        "\n",
        "$$\n",
        "\\mathbf{x} = \\begin{bmatrix}\n",
        "1\\\\\n",
        "2\\\\\n",
        "3\n",
        "\\end{bmatrix}, \\mathbf{y} = \\begin{bmatrix}\n",
        "4\\\\\n",
        "5\\\\\n",
        "6\n",
        "\\end{bmatrix}\n",
        "$$\n",
        "\n",
        "we have:\n",
        "\n",
        "$$\n",
        "\\mathbf{z} = \\mathbf{x} \\odot \\mathbf{y}= \\begin{bmatrix}\n",
        "4\\\\\n",
        "10\\\\\n",
        "18\n",
        "\\end{bmatrix}\n",
        "$$\n",
        "\n",
        "In `NumPy`:"
      ],
      "metadata": {
        "id": "ap_Zg_CEL9lz"
      }
    },
    {
      "cell_type": "code",
      "source": [
        "x = np.array([1, 2, 3])\n",
        "y = np.array([4, 5, 6])\n",
        "z = x * y\n",
        "z"
      ],
      "metadata": {
        "id": "2v9T-dLrMX8l",
        "colab": {
          "base_uri": "https://localhost:8080/"
        },
        "outputId": "2be40a17-83b0-4b5e-804b-11ada1659c9e"
      },
      "execution_count": null,
      "outputs": [
        {
          "output_type": "execute_result",
          "data": {
            "text/plain": [
              "array([ 4, 10, 18])"
            ]
          },
          "metadata": {},
          "execution_count": 10
        }
      ]
    },
    {
      "cell_type": "markdown",
      "source": [
        "## Scaling vectors\n",
        "\n",
        "If $\\mathbf{x}$ is a vector, scaling it by a constant $k$ is equivalent to element-wise multiplication by $k$. For example, given\n",
        "\n",
        "$$\n",
        "\\mathbf{x} = \\begin{bmatrix}\n",
        "1\\\\\n",
        "2\\\\\n",
        "3\n",
        "\\end{bmatrix}\n",
        "$$\n",
        "\n",
        "we have:\n",
        "\n",
        "$$\n",
        "\\mathbf{y} = 3 \\mathbf{x} = \\begin{bmatrix}\n",
        "3\\\\\n",
        "6\\\\\n",
        "9\n",
        "\\end{bmatrix}\n",
        "$$\n",
        "\n",
        "In `NumPy`:"
      ],
      "metadata": {
        "id": "Fp6OJRQZMjoW"
      }
    },
    {
      "cell_type": "code",
      "source": [
        "x = np.array([1, 2, 3])\n",
        "y = 3 * x\n",
        "y"
      ],
      "metadata": {
        "id": "NQGQmZZFM7_z",
        "colab": {
          "base_uri": "https://localhost:8080/"
        },
        "outputId": "5f5b343f-e7f8-4af8-bc95-dd487b75f2a7"
      },
      "execution_count": null,
      "outputs": [
        {
          "output_type": "execute_result",
          "data": {
            "text/plain": [
              "array([3, 6, 9])"
            ]
          },
          "metadata": {},
          "execution_count": 11
        }
      ]
    },
    {
      "cell_type": "markdown",
      "source": [
        "## Element-wise functions of vectors\n",
        "\n",
        "Scaling a vector $\\mathbf{x}$ by a constant $k$ can be seen as the outcome of the function $f(x) = kx$ applied element-wise:\n",
        "\n",
        "$$\n",
        "\\begin{bmatrix}\n",
        "f(x_1)\\\\\n",
        "\\vdots\\\\\n",
        "f(x_d)\n",
        "\\end{bmatrix} = \\begin{bmatrix}\n",
        "kx_1\\\\\n",
        "\\vdots\\\\\n",
        "k x_d\n",
        "\\end{bmatrix}\n",
        "$$\n",
        "\n",
        "`NumPy` extends this feature for any arbitrary function. "
      ],
      "metadata": {
        "id": "6U2ERkN5NCPe"
      }
    },
    {
      "cell_type": "markdown",
      "source": [
        "### Example-1\n",
        "\n",
        "For example, consider the function $f(x) = x^2$. This can be applied element-wise:\n",
        "\n",
        "$$\n",
        "\\begin{bmatrix}\n",
        "x_1^2\\\\\n",
        "\\vdots\\\\\n",
        "x_d^2\n",
        "\\end{bmatrix}\n",
        "$$\n",
        "\n",
        "Let us do this for:\n",
        "\n",
        "$$\n",
        "\\begin{bmatrix}\n",
        "1\\\\\n",
        "2\\\\\n",
        "3\\\\\n",
        "4\n",
        "\\end{bmatrix}\n",
        "$$\n",
        "\n",
        "In `NumPy`:"
      ],
      "metadata": {
        "id": "jRqHYiLSXLt3"
      }
    },
    {
      "cell_type": "code",
      "source": [
        "x = np.array([1, 2, 3, 4])\n",
        "x ** 2"
      ],
      "metadata": {
        "id": "4J5S44ynN0GR",
        "colab": {
          "base_uri": "https://localhost:8080/"
        },
        "outputId": "f511c97e-ff7c-44b6-c609-8435c37fcff0"
      },
      "execution_count": null,
      "outputs": [
        {
          "output_type": "execute_result",
          "data": {
            "text/plain": [
              "array([ 1,  4,  9, 16])"
            ]
          },
          "metadata": {},
          "execution_count": 14
        }
      ]
    },
    {
      "cell_type": "markdown",
      "source": [
        "### Example-2.1\n",
        "\n",
        "As another example, consider $f(x) = \\log(x)$. This can also be applied element-wise:\n",
        "\n",
        "$$\n",
        "\\begin{bmatrix}\n",
        "\\log(x_1)\\\\\n",
        "\\vdots\\\\\n",
        "\\log(x_d)\n",
        "\\end{bmatrix}\n",
        "$$\n",
        "\n",
        "Let us do this for $\\begin{bmatrix}1 & 10 & 100 & 1000 & 10000 & 100000\\end{bmatrix}^T$. Use base $10$.\n",
        "\n",
        "In `NumPy`:"
      ],
      "metadata": {
        "id": "Vyz1dWlhW3_G"
      }
    },
    {
      "cell_type": "code",
      "source": [
        "x = np.array([1, 10, 100, 1000, 10_000, 100_000])\n",
        "np.log10(x)"
      ],
      "metadata": {
        "id": "jbQ6mp1QN-dG",
        "colab": {
          "base_uri": "https://localhost:8080/"
        },
        "outputId": "058ff8b0-7db3-477a-9b2e-6d4a53131571"
      },
      "execution_count": null,
      "outputs": [
        {
          "output_type": "execute_result",
          "data": {
            "text/plain": [
              "array([0., 1., 2., 3., 4., 5.])"
            ]
          },
          "metadata": {},
          "execution_count": 15
        }
      ]
    },
    {
      "cell_type": "markdown",
      "source": [
        "### Example 2.2\n",
        "\n",
        "We can also use log to the base $e$, the natural logarithm. For this, let us take a specific vector:\n",
        "\n",
        "$$\n",
        "\\mathbf{x} = \\begin{bmatrix}\n",
        "1\\\\\n",
        "e\\\\\n",
        "e^2\\\\\n",
        "e^3\n",
        "\\end{bmatrix}\n",
        "$$\n",
        "\n",
        "and apply the function $f(x) = \\ln(x)$ element-wise.\n",
        "\n",
        "In `NumPy`:"
      ],
      "metadata": {
        "id": "Oxn-V4AWYMbr"
      }
    },
    {
      "cell_type": "code",
      "source": [
        "x = np.array([1, np.e, np.e ** 2, np.e ** 3])\n",
        "np.log(x)"
      ],
      "metadata": {
        "id": "I9CwD-g-Oa1F",
        "colab": {
          "base_uri": "https://localhost:8080/"
        },
        "outputId": "d5b6663a-3add-4c26-8b36-827c9c2f3bf1"
      },
      "execution_count": null,
      "outputs": [
        {
          "output_type": "execute_result",
          "data": {
            "text/plain": [
              "array([0., 1., 2., 3.])"
            ]
          },
          "metadata": {},
          "execution_count": 16
        }
      ]
    },
    {
      "cell_type": "markdown",
      "source": [
        "### Example 3\n",
        "\n",
        "Just as we can scale a vector, we can also add a constant to each component. This is equivalent to applying the element-wise function $f(x) = x + c$. Let us take the case of $\\begin{bmatrix}1 & 2 & 3\\end{bmatrix}^T$ and $c = 5$.\n",
        "\n",
        "In `NumPy`:"
      ],
      "metadata": {
        "id": "CLZ6acXdZDzJ"
      }
    },
    {
      "cell_type": "code",
      "source": [
        "x = np.array([1, 2, 3])\n",
        "c = 5\n",
        "x + c"
      ],
      "metadata": {
        "id": "BHsoW6jvmQF1",
        "colab": {
          "base_uri": "https://localhost:8080/"
        },
        "outputId": "887d33d6-57d2-4449-ff7d-a7fbe6e62fa8"
      },
      "execution_count": null,
      "outputs": [
        {
          "output_type": "execute_result",
          "data": {
            "text/plain": [
              "array([6, 7, 8])"
            ]
          },
          "metadata": {},
          "execution_count": 17
        }
      ]
    },
    {
      "cell_type": "markdown",
      "source": [
        "### Example 4\n",
        "\n",
        "Now for a slightly more involved example with $f(x) = 5x - 2$ applied element-wise on the following vector:\n",
        "\n",
        "$$\n",
        "\\mathbf{x} = \\begin{bmatrix}\n",
        "-1\\\\\n",
        "0\\\\\n",
        "1\\\\\n",
        "2\n",
        "\\end{bmatrix}\n",
        "$$\n",
        "\n",
        "In `NumPy`:"
      ],
      "metadata": {
        "id": "TTTvqeYxZw0O"
      }
    },
    {
      "cell_type": "code",
      "source": [
        "x = np.array([-1, 0, 1, 2])\n",
        "y = 5 * x - 2\n",
        "y"
      ],
      "metadata": {
        "id": "-E8n9MT-aBYj",
        "colab": {
          "base_uri": "https://localhost:8080/"
        },
        "outputId": "ab20cea5-796b-4f7d-ca12-27dc2ab9234a"
      },
      "execution_count": null,
      "outputs": [
        {
          "output_type": "execute_result",
          "data": {
            "text/plain": [
              "array([-7, -2,  3,  8])"
            ]
          },
          "metadata": {},
          "execution_count": 19
        }
      ]
    },
    {
      "cell_type": "markdown",
      "source": [
        "## Dot Product\n",
        "\n",
        "The dot product between two vectors $\\mathbf{x}$ and $\\mathbf{y}$ is given as follows:\n",
        "\n",
        "$$\n",
        "z = \\mathbf{x}^T \\mathbf{y} =  \\mathbf{x} \\cdot \\mathbf{y} = \\sum \\limits_{j = 1}^{m} x_j y_j\n",
        "$$\n",
        "\n",
        "Let us use the following vectors:\n",
        "\n",
        "$$\n",
        "\\mathbf{x} = \\begin{bmatrix}\n",
        "1\\\\\n",
        "2\\\\\n",
        "3\\\\\n",
        "4\\\\\n",
        "\\end{bmatrix}, \\mathbf{y} = \\begin{bmatrix}\n",
        "-4\\\\\n",
        "-5\\\\\n",
        "-6\\\\\n",
        "-7\\\\\n",
        "\\end{bmatrix}\n",
        "$$\n",
        "\n",
        "In `NumPy`:"
      ],
      "metadata": {
        "id": "kQR9yS5ROhFR"
      }
    },
    {
      "cell_type": "code",
      "source": [
        "x = np.array([1, 2, 3, 4])\n",
        "y = np.array([-4, -5, -6, -7])\n",
        "#np.dot(x, y)\n",
        "x @ y"
      ],
      "metadata": {
        "id": "yIdGkJG_OxrL",
        "colab": {
          "base_uri": "https://localhost:8080/"
        },
        "outputId": "e5d07f1a-f9b5-4126-ea62-11e503ce1428"
      },
      "execution_count": null,
      "outputs": [
        {
          "output_type": "execute_result",
          "data": {
            "text/plain": [
              "array([1, 2, 3, 4])"
            ]
          },
          "metadata": {},
          "execution_count": 23
        }
      ]
    },
    {
      "cell_type": "markdown",
      "source": [
        "## Vector of zeros or ones\n",
        "\n",
        "On many occassions, we might want to create a `NumPy` array all of whose elements are zeros or ones or some other constant. Let us create the following vectors:\n",
        "\n",
        "$$\n",
        "\\mathbf{0} = \\begin{bmatrix}\n",
        "0\\\\\n",
        "0\\\\\n",
        "0\\\\\n",
        "0\\\\\n",
        "0\n",
        "\\end{bmatrix}, \\mathbf{1} = \\begin{bmatrix}\n",
        "1\\\\\n",
        "1\\\\\n",
        "1\\\\\n",
        "1\\\\\n",
        "1\n",
        "\\end{bmatrix}\n",
        "$$\n",
        "\n",
        "In `NumPy`:"
      ],
      "metadata": {
        "id": "-oGTCbqVRqUj"
      }
    },
    {
      "cell_type": "code",
      "source": [
        "zero = np.zeros(5)\n",
        "one = np.ones(5)\n",
        "one"
      ],
      "metadata": {
        "id": "4i6VbthkT36F",
        "colab": {
          "base_uri": "https://localhost:8080/"
        },
        "outputId": "453c957a-6280-4f62-cdc8-40c4134ef8cf"
      },
      "execution_count": null,
      "outputs": [
        {
          "output_type": "execute_result",
          "data": {
            "text/plain": [
              "array([1., 1., 1., 1., 1.])"
            ]
          },
          "metadata": {},
          "execution_count": 25
        }
      ]
    },
    {
      "cell_type": "markdown",
      "source": [
        "## Norm of a vector\n",
        "\n",
        "For a vector $\\mathbf{x}$:\n",
        "\n",
        "$$\n",
        "\\mathbf{x} = \\begin{bmatrix}\n",
        "1\\\\\n",
        "2\\\\\n",
        "3\n",
        "\\end{bmatrix}\n",
        "$$\n",
        "\n",
        "The $L_2$ norm is defind as:\n",
        "\n",
        "$$\n",
        "||\\mathbf{x}||_2 = \\sqrt{1^2 + 2^2 + 3^2} = \\sqrt{14}\n",
        "$$\n",
        "\n",
        "The $L_1$ norm is defind as:\n",
        "\n",
        "$$\n",
        "||\\mathbf{x}||_1 = |1| + |2| + |3| = 6\n",
        "$$\n",
        "\n",
        "In `NumPy`:"
      ],
      "metadata": {
        "id": "vLcLxgyZGAt5"
      }
    },
    {
      "cell_type": "code",
      "source": [
        "x = np.array([1, 2, 3])\n",
        "np.sqrt(np.sum(x ** 2))\n",
        "np.linalg.norm(x)"
      ],
      "metadata": {
        "id": "xd7rG_38GL8w",
        "colab": {
          "base_uri": "https://localhost:8080/"
        },
        "outputId": "46aa917b-ac42-4340-ba66-f30661e3d246"
      },
      "execution_count": null,
      "outputs": [
        {
          "output_type": "execute_result",
          "data": {
            "text/plain": [
              "3.7416573867739413"
            ]
          },
          "metadata": {},
          "execution_count": 31
        }
      ]
    },
    {
      "cell_type": "markdown",
      "source": [
        "## Shape and dimension of a vector\n",
        "\n",
        "Vectors are \"one dimensional\" arrays. So all vectors in `NumPy` have array-dimension equal to one. The term \"array-dimension\" here is defind for a `NumPy` array. It is different from the dimension used in the vector-space sense. The vector-space dimension can be obtaind by looking at the shape of the `NumPy` array.\n",
        "\n",
        "Explore these two ideas for:\n",
        "\n",
        "$$\n",
        "\\mathbf{x} = \\begin{bmatrix}\n",
        "1\\\\\n",
        "2\\\\\n",
        "3\\\\\n",
        "4\n",
        "\\end{bmatrix}\n",
        "$$"
      ],
      "metadata": {
        "id": "OGdzUtRAy6_g"
      }
    },
    {
      "cell_type": "code",
      "source": [
        "x = np.array([1, 2, 3, 4])\n",
        "x.shape\n",
        "x.ndim"
      ],
      "metadata": {
        "id": "Hs0Y5qRLzkXY",
        "colab": {
          "base_uri": "https://localhost:8080/"
        },
        "outputId": "b94c0f1c-9109-4cde-d653-a5e938b2aae8"
      },
      "execution_count": null,
      "outputs": [
        {
          "output_type": "execute_result",
          "data": {
            "text/plain": [
              "1"
            ]
          },
          "metadata": {},
          "execution_count": 37
        }
      ]
    }
  ]
}